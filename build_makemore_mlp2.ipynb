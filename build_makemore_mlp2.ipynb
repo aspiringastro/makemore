{
 "cells": [
  {
   "cell_type": "code",
   "execution_count": 19,
   "id": "240ebab2-546b-4a2e-bc68-4a201a667d4c",
   "metadata": {},
   "outputs": [],
   "source": [
    "import torch\n",
    "import torch.nn.functional as F\n",
    "import matplotlib.pyplot as plt\n",
    "%matplotlib inline"
   ]
  },
  {
   "cell_type": "code",
   "execution_count": 20,
   "id": "246e145f-c219-4cad-84e5-33fce8a94a70",
   "metadata": {},
   "outputs": [],
   "source": [
    "# Load the dataset \n",
    "words = open('names.txt', 'r').read().splitlines()\n"
   ]
  },
  {
   "cell_type": "code",
   "execution_count": 21,
   "id": "ed5d79d4-9760-4ca2-8fc8-e2d0250983a5",
   "metadata": {},
   "outputs": [
    {
     "name": "stdout",
     "output_type": "stream",
     "text": [
      "{1: 'a', 2: 'b', 3: 'c', 4: 'd', 5: 'e', 6: 'f', 7: 'g', 8: 'h', 9: 'i', 10: 'j', 11: 'k', 12: 'l', 13: 'm', 14: 'n', 15: 'o', 16: 'p', 17: 'q', 18: 'r', 19: 's', 20: 't', 21: 'u', 22: 'v', 23: 'w', 24: 'x', 25: 'y', 26: 'z', 0: '.'}\n"
     ]
    }
   ],
   "source": [
    "# build the vocabulary of characters and mappings to/from integers\n",
    "chars = sorted(list(set(''.join(words))))\n",
    "stoi = { s:i+1 for i,s in enumerate(chars)}\n",
    "stoi['.'] = 0\n",
    "itos = { i:s for s,i in stoi.items() }\n",
    "\n",
    "print(itos)"
   ]
  },
  {
   "cell_type": "code",
   "execution_count": 22,
   "id": "3f01e374-47b9-4bbc-8234-cefa04094cea",
   "metadata": {},
   "outputs": [
    {
     "name": "stdout",
     "output_type": "stream",
     "text": [
      "torch.Size([182339, 3]) torch.Size([182339])\n",
      "torch.Size([22895, 3]) torch.Size([22895])\n",
      "torch.Size([22912, 3]) torch.Size([22912])\n"
     ]
    }
   ],
   "source": [
    "# build the dataset\n",
    "block_size = 3\n",
    "\n",
    "def build_dataset(words):\n",
    "    \n",
    "    X, Y = [], []\n",
    "    for w in words:\n",
    "        # padded context of zero tokens with block size expected\n",
    "        context = [0] * block_size\n",
    "        for ch in w + '.':\n",
    "            ix = stoi[ch]\n",
    "            X.append(context)\n",
    "            Y.append(ix)\n",
    "            context = context[1:] + [ix] #crop and append\n",
    "        \n",
    "    X = torch.tensor(X)\n",
    "    Y = torch.tensor(Y)\n",
    "    print(X.shape, Y.shape)\n",
    "    return X, Y\n",
    "\n",
    "import random\n",
    "random.seed(137)\n",
    "random.shuffle(words)\n",
    "n1 = int (0.8 * len(words))\n",
    "n2 = int (0.9 * len(words))\n",
    " \n",
    "Xtr, Ytr = build_dataset(words[:n1])      #80%\n",
    "Xdev, Ydev = build_dataset(words[n1:n2])  #10%\n",
    "Xte, Yte = build_dataset(words[n2:])      #10%\n"
   ]
  },
  {
   "cell_type": "code",
   "execution_count": 23,
   "id": "4a3f5288-aac4-437c-a558-2571189e325e",
   "metadata": {},
   "outputs": [
    {
     "name": "stdout",
     "output_type": "stream",
     "text": [
      "12097\n"
     ]
    }
   ],
   "source": [
    "# MLP revisited (generalized hyperparameters)\n",
    "\n",
    "n_embd = 10 # the dimensionality of the character embedding vectors\n",
    "n_hidden = 200 # the number of neurons in the hidden layer of the MLP\n",
    "vocab_size = len(itos) # the number of unique character encodings\n",
    "\n",
    "episilon = 10**-5\n",
    "g = torch.Generator()\n",
    "C = torch.randn((vocab_size, n_embd), generator=g)\n",
    "W1 = torch.randn((n_embd * block_size, n_hidden), generator=g) * (5/3)/((n_embd * block_size)**0.5) # kaiming-init for tanh nonlinearity gain/sqrt(fan-in)\n",
    "# No longer needed since normalization layer will remove this fixed bias\n",
    "# b1 = torch.randn(n_hidden, generator=g) * 0.01\n",
    "W2 = torch.randn((n_hidden, vocab_size), generator=g) * 0.01\n",
    "b2 = torch.randn(vocab_size, generator=g) * 0\n",
    "\n",
    "#batch propagation parameters\n",
    "bngain = torch.ones((1, n_hidden))\n",
    "bnbias = torch.zeros((1,n_hidden))\n",
    "bnmean_running = torch.zeros((1, n_hidden))\n",
    "bnstd_running = torch.ones((1, n_hidden))\n",
    "\n",
    "parameters = [C, W1, W2, b2, bngain, bnbias ]\n",
    "print(sum(p.nelement() for p in parameters))\n",
    "for p in parameters:\n",
    "    p.requires_grad = True\n",
    "\n"
   ]
  },
  {
   "cell_type": "code",
   "execution_count": 24,
   "id": "dddff67c-2224-483c-92f5-bef2b05ec200",
   "metadata": {},
   "outputs": [
    {
     "name": "stdout",
     "output_type": "stream",
     "text": [
      "      0 /  200000: 3.2873\n",
      "  10000 /  200000: 2.0588\n",
      "  20000 /  200000: 1.9073\n",
      "  30000 /  200000: 2.2616\n",
      "  40000 /  200000: 2.1942\n",
      "  50000 /  200000: 2.0374\n",
      "  60000 /  200000: 2.6524\n",
      "  70000 /  200000: 2.2167\n",
      "  80000 /  200000: 2.0015\n",
      "  90000 /  200000: 2.3978\n",
      " 100000 /  200000: 2.5218\n",
      " 110000 /  200000: 2.3059\n",
      " 120000 /  200000: 2.0967\n",
      " 130000 /  200000: 2.4376\n",
      " 140000 /  200000: 2.0834\n",
      " 150000 /  200000: 2.3981\n",
      " 160000 /  200000: 2.0521\n",
      " 170000 /  200000: 2.1261\n",
      " 180000 /  200000: 1.8160\n",
      " 190000 /  200000: 2.1725\n"
     ]
    }
   ],
   "source": [
    "# MLP Optimization revisited\n",
    "\n",
    "max_steps = 200000\n",
    "batch_size = 32\n",
    "lossi = []\n",
    "for i in range(max_steps):\n",
    "    \n",
    "    #minibatch construct\n",
    "    ix = torch.randint(0, Xtr.shape[0], (batch_size,), generator=g)\n",
    "    Xb, Yb = Xtr[ix], Ytr[ix] # set up batch X, Y\n",
    "    \n",
    "    #forward pass\n",
    "    emb = C[Xb]                         # embed the characters into vectors\n",
    "    embcat = emb.view(emb.shape[0], -1) # represent the vectors with the shape needed by concatenating the dimensions\n",
    "    hpreact = embcat @ W1 # + b1          # hidden layer pre-activation\n",
    "    \n",
    "    # Batch normalization paper insight - make these activations exactly guassian\n",
    "    # scale and shift\n",
    "    bnmeani = hpreact.mean(0, keepdim=True)\n",
    "    bnstdi = hpreact.std(0, keepdim=True)\n",
    "    hpreact = bngain * (hpreact - bnmeani)/ bnstdi + bnbias # Keep Dim true so that we can broadcast it easily\n",
    "    \n",
    "    #scale and shift is now included in step above\n",
    "    # hpreact = bngain * hpreact + bnbias\n",
    "    with torch.no_grad():\n",
    "        bnmean_running = 0.999 * bnmean_running + 0.001 * bnmeani\n",
    "        bnstd_running = 0.999 * bnstd_running + 0.001 * bnstdi\n",
    "     \n",
    "    h = torch.tanh(hpreact)             # hidden layer\n",
    "    logits = h @ W2 + b2                # output layer\n",
    "    loss = F.cross_entropy(logits, Yb)  # loss function\n",
    "    \n",
    "    #backward pass\n",
    "    for p in parameters:\n",
    "        p.grad = None\n",
    "    loss.backward()\n",
    "    \n",
    "    #update\n",
    "    lr = 0.1 if i < max_steps/2 else 0.01 # step learning rate decay\n",
    "    for p in parameters:\n",
    "        p.data += -lr * p.grad\n",
    "    \n",
    "    #track stats\n",
    "    if i % 10000 == 0:\n",
    "        print(f'{i:7d} / {max_steps:7d}: {loss.item():.4f}')\n",
    "    lossi.append(loss.log10().item())\n",
    "    \n",
    "    "
   ]
  },
  {
   "cell_type": "code",
   "execution_count": 25,
   "id": "64ccf1bc-7e3c-454c-97d3-49b1e579225d",
   "metadata": {},
   "outputs": [
    {
     "data": {
      "image/png": "[encoded data removed]",
      "text/plain": [
       "<Figure size 640x480 with 1 Axes>"
      ]
     },
     "metadata": {},
     "output_type": "display_data"
    }
   ],
   "source": [
    "# Let's look at activations of the hidden states and how many of them are maxed out to -1 or 1\n",
    "# flatten h to single dimension with [-1] and then convert to a python list before plotting it as a hist\n",
    "plt.hist(h.view(-1).tolist(), 50);"
   ]
  },
  {
   "cell_type": "code",
   "execution_count": 26,
   "id": "a7ae6306-e7f8-4cff-8433-480f87fb3ab5",
   "metadata": {},
   "outputs": [
    {
     "data": {
      "text/plain": [
       "<matplotlib.image.AxesImage at 0x1205621f0>"
      ]
     },
     "execution_count": 26,
     "metadata": {},
     "output_type": "execute_result"
    },
    {
     "data": {
      "image/png": "[encoded data removed]",
      "text/plain": [
       "<Figure size 2000x1000 with 1 Axes>"
      ]
     },
     "metadata": {},
     "output_type": "display_data"
    }
   ],
   "source": [
    "\n",
    "plt.figure(figsize=(20,10))\n",
    "# Let's also plot a boolean tensor that shows gradients above 0.99 level after taking abs to include both positive and negative values\n",
    "plt.imshow(h.abs() > 0.99, cmap='gray', interpolation='nearest')"
   ]
  },
  {
   "cell_type": "code",
   "execution_count": 27,
   "id": "83404302-9dbf-4264-83fc-8310915aad66",
   "metadata": {},
   "outputs": [
    {
     "data": {
      "text/plain": [
       "[<matplotlib.lines.Line2D at 0x120539d60>]"
      ]
     },
     "execution_count": 27,
     "metadata": {},
     "output_type": "execute_result"
    },
    {
     "data": {
      "image/png": "[encoded data removed]",
      "text/plain": [
       "<Figure size 640x480 with 1 Axes>"
      ]
     },
     "metadata": {},
     "output_type": "display_data"
    }
   ],
   "source": [
    "\n",
    "# Plot the loss\n",
    "plt.plot(lossi)"
   ]
  },
  {
   "cell_type": "code",
   "execution_count": 28,
   "id": "b2635afb-6c2d-4e85-9bd4-6f5e73833c62",
   "metadata": {},
   "outputs": [
    {
     "name": "stdout",
     "output_type": "stream",
     "text": [
      "torch.Size([1, 200]), torch.Size([1, 200])\n"
     ]
    }
   ],
   "source": [
    "# Calibrate the batch normalization at the end of the training\n",
    "\n",
    "with torch.no_grad():\n",
    "    # pass the training set entirely and get bnmean and bnstd computed\n",
    "    emb = C[Xtr]\n",
    "    embcat = emb.view(emb.shape[0], -1)\n",
    "    hpreact = embcat @ W1 # + b1\n",
    "    # measure the mean & std deviation for the entire training set\n",
    "    bnmean = hpreact.mean(0, keepdim=True)\n",
    "    bnstd = hpreact.std(0, keepdim=True)\n",
    "    \n",
    "print(f'{bnmean.shape}, {bnstd.shape}')"
   ]
  },
  {
   "cell_type": "code",
   "execution_count": 29,
   "id": "95873db7-4a60-4032-a0d3-dfcad2a87d7b",
   "metadata": {},
   "outputs": [
    {
     "name": "stdout",
     "output_type": "stream",
     "text": [
      "train 2.0663130283355713\n",
      "val 2.1250436305999756\n"
     ]
    }
   ],
   "source": [
    "@torch.no_grad() # this decorator disables gradient tracking\n",
    "def split_loss(split):\n",
    "    x,y = {\n",
    "        'train' :  (Xtr, Ytr),\n",
    "        'val'   :  (Xdev, Ydev),\n",
    "        'test'  :  (Xte, Yte),\n",
    "    }[split]\n",
    "    \n",
    "    emb = C[x] # (N, block_size, n_embd)\n",
    "    embcat = emb.view(emb.shape[0], -1) #contact into ( N, block_size * n_embd)\n",
    "    hpreact = embcat @ W1 # + b1\n",
    "    # hpreact = (hpreact - hpreact.mean(0, keepdim=True))/hpreact.std(0, keepdim=True)# Keep Dim true so that we can broadcast it easily\n",
    "    hpreact = bngain * (hpreact - bnmean_running) / bnstd_running + bnbias\n",
    "    h = torch.tanh(hpreact)\n",
    "    logits = h @ W2 + b2\n",
    "    loss = F.cross_entropy(logits, y)\n",
    "    print(split, loss.item())\n",
    "    \n",
    "split_loss('train')\n",
    "split_loss('val')"
   ]
  },
  {
   "cell_type": "code",
   "execution_count": 37,
   "id": "bed1d7b4-fc13-4c9a-b931-d77f012cc237",
   "metadata": {},
   "outputs": [
    {
     "name": "stdout",
     "output_type": "stream",
     "text": [
      "kodolaiyah.\n",
      "vilyn.\n",
      "kawiff.\n",
      "floy.\n",
      "hel.\n",
      "ezi.\n",
      "beon.\n",
      "jedian.\n",
      "arviene.\n",
      "damir.\n",
      "zette.\n",
      "tean.\n",
      "garla.\n",
      "zicu.\n",
      "nuvikristonwilvien.\n",
      "nyloriazniel.\n",
      "blay.\n",
      "ami.\n",
      "davi.\n",
      "halyn.\n"
     ]
    }
   ],
   "source": [
    "#Sample from the model\n",
    "\n",
    "g = torch.Generator()\n",
    "\n",
    "for _ in range(20):\n",
    "    out = []\n",
    "    context = [0] * block_size\n",
    "    while True:\n",
    "        emb = C[torch.tensor([context])]\n",
    "        embcat = emb.view(emb.shape[0], -1)\n",
    "        hpreact = embcat @ W1 # + b1\n",
    "        hpreact = bngain * (hpreact - bnmean_running) / bnstd_running + bnbias\n",
    "        h = torch.tanh(hpreact)\n",
    "        logits = h @ W2 + b2\n",
    "        probs = F.softmax(logits, dim=1)\n",
    "        ix = torch.multinomial(probs, num_samples=1, generator=g).item()\n",
    "        context = context[1:] + [ix]\n",
    "        out.append(ix)\n",
    "        if ix == 0:\n",
    "            break\n",
    "    print(''.join(itos[i] for i in out))"
   ]
  },
  {
   "cell_type": "code",
   "execution_count": 40,
   "id": "c69cefd8-20c6-4f65-8c83-576644dddaf5",
   "metadata": {},
   "outputs": [
    {
     "data": {
      "text/plain": [
       "(torch.Size([1, 3, 10]),\n",
       " torch.Size([1, 30]),\n",
       " torch.Size([30, 200]),\n",
       " torch.Size([1, 200]),\n",
       " torch.Size([1, 200]),\n",
       " torch.Size([200, 27]),\n",
       " torch.Size([27]),\n",
       " torch.Size([1, 27]),\n",
       " torch.Size([1, 27]))"
      ]
     },
     "execution_count": 40,
     "metadata": {},
     "output_type": "execute_result"
    }
   ],
   "source": [
    "emb.shape, embcat.shape, W1.shape, hpreact.shape, h.shape, W2.shape, b2.shape, logits.shape, probs.shape"
   ]
  },
  {
   "cell_type": "code",
   "execution_count": null,
   "id": "98cbf130-cfd3-4071-b94e-2e3f316b085c",
   "metadata": {},
   "outputs": [],
   "source": [
    "\n",
    "# Activation Functions\n",
    "t = torch.linspace(-10, 10, 10000)\n",
    "\n",
    "\n",
    "\n",
    "# sigmoid activation function\n",
    "# 1/(1+e^-x)\n",
    "\n",
    "sigmoid = 1.0 / (1 + torch.exp(-t))\n",
    "\n",
    "plt.plot(t,sigmoid); \n",
    "plt.grid(visible=True, which='major')\n",
    "\n",
    "plt.title('sigmoid: 1/(1+e^-x)')"
   ]
  },
  {
   "cell_type": "code",
   "execution_count": null,
   "id": "a26f8d9d-1e9a-4ea0-a33a-d5fb785298a5",
   "metadata": {},
   "outputs": [],
   "source": [
    "# Understanding how mean and std deviations of a random guassian distribution is affected when we perform operations\n",
    "\n",
    "x = torch.randn(1000, 10)\n",
    "w = torch.randn(10, 200)\n",
    "w_n = torch.randn(10, 200) / 10**0.5 # sqrt of 10 (fan-in)\n",
    "y = x @ w\n",
    "y_n = x @ w_n\n",
    "\n",
    "print(f'x: mean= {x.mean()}, std={x.std()}')\n",
    "print(f'y: mean= {y.mean()}, std={y.std()}')\n",
    "print(f'y_n: mean= {y_n.mean()}, std={y_n.std()}')\n",
    "plt.figure(figsize=(20,5))\n",
    "plt.subplot(131)\n",
    "plt.hist(x.view(-1).tolist(), 50, density=True);\n",
    "plt.subplot(132)\n",
    "plt.hist(y.view(-1).tolist(), 50, density=True);\n",
    "plt.subplot(133)\n",
    "plt.hist(y_n.view(-1).tolist(), 50, density=True);\n",
    "\n",
    "# How to preserve the guassian generated so that the standard deviation remains close to 1?\n",
    "# Sqrt of Fan-in\n",
    "\n"
   ]
  },
  {
   "cell_type": "code",
   "execution_count": null,
   "id": "0c72ae59-6d0d-4956-bd6d-b6c9d20b8a2f",
   "metadata": {},
   "outputs": [],
   "source": []
  }
 ],
 "metadata": {
  "kernelspec": {
   "display_name": "Python 3 (ipykernel)",
   "language": "python",
   "name": "python3"
  },
  "language_info": {
   "codemirror_mode": {
    "name": "ipython",
    "version": 3
   },
   "file_extension": ".py",
   "mimetype": "text/x-python",
   "name": "python",
   "nbconvert_exporter": "python",
   "pygments_lexer": "ipython3",
   "version": "3.8.2"
  }
 },
 "nbformat": 4,
 "nbformat_minor": 5
}
